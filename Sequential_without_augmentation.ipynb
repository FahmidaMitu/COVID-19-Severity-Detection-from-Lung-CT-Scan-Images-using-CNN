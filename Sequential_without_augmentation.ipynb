{
  "cells": [
    {
      "cell_type": "markdown",
      "metadata": {
        "id": "view-in-github",
        "colab_type": "text"
      },
      "source": [
        "<a href=\"https://colab.research.google.com/github/FahmidaMitu/COVID-19-Severity-Detection-from-Lung-CT-Scan-Images-using-CNN/blob/codes/Sequential_without_augmentation.ipynb\" target=\"_parent\"><img src=\"https://colab.research.google.com/assets/colab-badge.svg\" alt=\"Open In Colab\"/></a>"
      ]
    },
    {
      "cell_type": "code",
      "execution_count": null,
      "metadata": {
        "id": "Tam1yRA74hmW"
      },
      "outputs": [],
      "source": [
        "import tensorflow as tf\n",
        "import numpy as np"
      ]
    },
    {
      "cell_type": "code",
      "execution_count": null,
      "metadata": {
        "id": "IfDLSptL4hma"
      },
      "outputs": [],
      "source": [
        "base_dir=r\"/content/drive/MyDrive/CSE499A.COVID-19/Classified_Images\""
      ]
    },
    {
      "cell_type": "code",
      "execution_count": null,
      "metadata": {
        "colab": {
          "base_uri": "https://localhost:8080/"
        },
        "id": "Yt7eMufv4p-U",
        "outputId": "e6e6d968-7fd1-4813-c1f5-1c914f5441ee"
      },
      "outputs": [
        {
          "output_type": "stream",
          "name": "stdout",
          "text": [
            "Drive already mounted at /content/drive; to attempt to forcibly remount, call drive.mount(\"/content/drive\", force_remount=True).\n"
          ]
        }
      ],
      "source": [
        "from google.colab import drive\n",
        "drive.mount('/content/drive')"
      ]
    },
    {
      "cell_type": "code",
      "execution_count": null,
      "metadata": {
        "colab": {
          "base_uri": "https://localhost:8080/"
        },
        "id": "I1uEII6J4hmb",
        "outputId": "6ec5e52d-b58d-4ebf-cd75-99b1e8324b9b"
      },
      "outputs": [
        {
          "output_type": "stream",
          "name": "stdout",
          "text": [
            "Found 2750 images belonging to 6 classes.\n",
            "Found 303 images belonging to 6 classes.\n"
          ]
        }
      ],
      "source": [
        "IMAGE_SIZE=224\n",
        "BATCH_SIZE=128\n",
        "\n",
        "#pre=processing\n",
        "train_datagen=tf.keras.preprocessing.image.ImageDataGenerator(\n",
        "    rescale=1./255,\n",
        "    shear_range=0.2,\n",
        "    zoom_range=0.2,\n",
        "    horizontal_flip=True,\n",
        "    validation_split=0.1\n",
        "    )\n",
        "\n",
        "test_datagen=tf.keras.preprocessing.image.ImageDataGenerator(\n",
        "     rescale=1./255,\n",
        "     validation_split=0.1\n",
        ")\n",
        "\n",
        "train_datagen=train_datagen.flow_from_directory(\n",
        "    base_dir,\n",
        "    target_size=(IMAGE_SIZE,IMAGE_SIZE),\n",
        "    batch_size=BATCH_SIZE,\n",
        "    subset='training'\n",
        ")\n",
        "\n",
        "test_datagen=test_datagen.flow_from_directory(\n",
        "    base_dir,\n",
        "    target_size=(IMAGE_SIZE,IMAGE_SIZE),\n",
        "    batch_size=BATCH_SIZE,\n",
        "    subset='validation'\n",
        ")\n",
        "\n",
        "\n"
      ]
    },
    {
      "cell_type": "code",
      "execution_count": null,
      "metadata": {
        "id": "6urDKXGq4hme"
      },
      "outputs": [],
      "source": [
        "cnn = tf.keras.Sequential()\n",
        "cnn.add(tf.keras.layers.Conv2D(filters=64,padding='same',strides=2,kernel_size=3,activation='relu',input_shape=(224,224,3)))\n",
        "cnn.add(tf.keras.layers.MaxPool2D(pool_size=2,strides=2))\n",
        "\n",
        "cnn.add(tf.keras.layers.Conv2D(filters=32,padding='same',strides=2,kernel_size=3,activation='relu'))\n",
        "cnn.add(tf.keras.layers.MaxPool2D(pool_size=2,strides=2))\n",
        "\n",
        "cnn.add(tf.keras.layers.Conv2D(filters=32,padding='same',strides=2,kernel_size=3,activation='relu'))\n",
        "cnn.add(tf.keras.layers.MaxPool2D(pool_size=2))\n",
        "\n",
        "# cnn.add(tf.keras.layers.Conv2D(filters=32,padding='same',strides=2,kernel_size=3,activation='relu'))\n",
        "# cnn.add(tf.keras.layers.MaxPool2D(pool_size=2))\n",
        "\n",
        "cnn.add(tf.keras.layers.Flatten())\n",
        "cnn.add(tf.keras.layers.Dense(6,activation='softmax'))\n"
      ]
    },
    {
      "cell_type": "code",
      "execution_count": null,
      "metadata": {
        "id": "M26UUHP24hmf"
      },
      "outputs": [],
      "source": [
        "cnn.compile(optimizer=tf.keras.optimizers.Adam(),loss='categorical_crossentropy',metrics=['accuracy'])"
      ]
    },
    {
      "cell_type": "code",
      "execution_count": null,
      "metadata": {
        "id": "1EOpTfam4hmg"
      },
      "outputs": [],
      "source": [
        "\n",
        "# cnn.fit(train_datagen,epochs=100,validation_data=test_datagen)"
      ]
    },
    {
      "cell_type": "code",
      "execution_count": null,
      "metadata": {
        "colab": {
          "base_uri": "https://localhost:8080/"
        },
        "id": "Id35X7v1YUI3",
        "outputId": "b4459ee9-2602-4f61-a7b4-35f7335075b1"
      },
      "outputs": [
        {
          "name": "stdout",
          "output_type": "stream",
          "text": [
            "Epoch 1/50\n",
            "28/28 [==============================] - 1292s 46s/step - loss: 1.5990 - accuracy: 0.3789 - val_loss: 1.5807 - val_accuracy: 0.3828\n",
            "Epoch 2/50\n",
            "28/28 [==============================] - 86s 3s/step - loss: 1.5760 - accuracy: 0.3807 - val_loss: 1.5638 - val_accuracy: 0.3927\n",
            "Epoch 3/50\n",
            "28/28 [==============================] - 85s 3s/step - loss: 1.5681 - accuracy: 0.3825 - val_loss: 1.5535 - val_accuracy: 0.3927\n",
            "Epoch 4/50\n",
            "28/28 [==============================] - 85s 3s/step - loss: 1.5586 - accuracy: 0.3844 - val_loss: 1.5461 - val_accuracy: 0.4092\n",
            "Epoch 5/50\n",
            "28/28 [==============================] - 86s 3s/step - loss: 1.5324 - accuracy: 0.3949 - val_loss: 1.5172 - val_accuracy: 0.4290\n",
            "Epoch 6/50\n",
            "28/28 [==============================] - 86s 3s/step - loss: 1.4915 - accuracy: 0.4058 - val_loss: 1.4515 - val_accuracy: 0.4191\n",
            "Epoch 7/50\n",
            "28/28 [==============================] - 85s 3s/step - loss: 1.4147 - accuracy: 0.4149 - val_loss: 1.3842 - val_accuracy: 0.4587\n",
            "Epoch 8/50\n",
            "28/28 [==============================] - 85s 3s/step - loss: 1.3612 - accuracy: 0.4371 - val_loss: 1.3364 - val_accuracy: 0.4785\n",
            "Epoch 9/50\n",
            "28/28 [==============================] - 86s 3s/step - loss: 1.3065 - accuracy: 0.4476 - val_loss: 1.3509 - val_accuracy: 0.4917\n",
            "Epoch 10/50\n",
            "28/28 [==============================] - 86s 3s/step - loss: 1.2848 - accuracy: 0.4709 - val_loss: 1.3592 - val_accuracy: 0.4917\n",
            "Epoch 11/50\n",
            "28/28 [==============================] - 90s 3s/step - loss: 1.2733 - accuracy: 0.4782 - val_loss: 1.3561 - val_accuracy: 0.4455\n",
            "Epoch 12/50\n",
            "28/28 [==============================] - 90s 3s/step - loss: 1.2393 - accuracy: 0.4807 - val_loss: 1.3306 - val_accuracy: 0.4554\n",
            "Epoch 13/50\n",
            "28/28 [==============================] - 90s 3s/step - loss: 1.2223 - accuracy: 0.4956 - val_loss: 1.3183 - val_accuracy: 0.4719\n",
            "Epoch 14/50\n",
            "28/28 [==============================] - 91s 3s/step - loss: 1.1972 - accuracy: 0.5084 - val_loss: 1.3931 - val_accuracy: 0.4785\n",
            "Epoch 15/50\n",
            "28/28 [==============================] - 88s 3s/step - loss: 1.1847 - accuracy: 0.5204 - val_loss: 1.3265 - val_accuracy: 0.4686\n",
            "Epoch 16/50\n",
            "28/28 [==============================] - 90s 3s/step - loss: 1.1719 - accuracy: 0.5102 - val_loss: 1.3913 - val_accuracy: 0.4554\n",
            "Epoch 17/50\n",
            "28/28 [==============================] - 86s 3s/step - loss: 1.1611 - accuracy: 0.5167 - val_loss: 1.3301 - val_accuracy: 0.4653\n",
            "Epoch 18/50\n",
            "28/28 [==============================] - 86s 3s/step - loss: 1.1315 - accuracy: 0.5313 - val_loss: 1.3235 - val_accuracy: 0.4719\n",
            "Epoch 19/50\n",
            "28/28 [==============================] - 86s 3s/step - loss: 1.1386 - accuracy: 0.5316 - val_loss: 1.3476 - val_accuracy: 0.4191\n",
            "Epoch 20/50\n",
            "28/28 [==============================] - 86s 3s/step - loss: 1.0985 - accuracy: 0.5476 - val_loss: 1.3449 - val_accuracy: 0.4323\n",
            "Epoch 21/50\n",
            "28/28 [==============================] - 85s 3s/step - loss: 1.1041 - accuracy: 0.5491 - val_loss: 1.2990 - val_accuracy: 0.4389\n",
            "Epoch 22/50\n",
            "28/28 [==============================] - 85s 3s/step - loss: 1.0779 - accuracy: 0.5604 - val_loss: 1.2559 - val_accuracy: 0.4356\n",
            "Epoch 23/50\n",
            "28/28 [==============================] - 85s 3s/step - loss: 1.0773 - accuracy: 0.5451 - val_loss: 1.3259 - val_accuracy: 0.4224\n",
            "Epoch 24/50\n",
            "28/28 [==============================] - 86s 3s/step - loss: 1.0639 - accuracy: 0.5651 - val_loss: 1.3351 - val_accuracy: 0.4818\n",
            "Epoch 25/50\n",
            "28/28 [==============================] - 86s 3s/step - loss: 1.0490 - accuracy: 0.5669 - val_loss: 1.2993 - val_accuracy: 0.4785\n",
            "Epoch 26/50\n",
            "28/28 [==============================] - 85s 3s/step - loss: 1.0650 - accuracy: 0.5589 - val_loss: 1.2875 - val_accuracy: 0.4983\n",
            "Epoch 27/50\n",
            "28/28 [==============================] - 85s 3s/step - loss: 1.0398 - accuracy: 0.5756 - val_loss: 1.2826 - val_accuracy: 0.4620\n",
            "Epoch 28/50\n",
            "28/28 [==============================] - 86s 3s/step - loss: 1.0262 - accuracy: 0.5764 - val_loss: 1.4101 - val_accuracy: 0.4719\n",
            "Epoch 29/50\n",
            "28/28 [==============================] - 86s 3s/step - loss: 1.0379 - accuracy: 0.5764 - val_loss: 1.2991 - val_accuracy: 0.4917\n",
            "Epoch 30/50\n",
            "28/28 [==============================] - 85s 3s/step - loss: 0.9977 - accuracy: 0.5887 - val_loss: 1.3534 - val_accuracy: 0.4818\n",
            "Epoch 31/50\n",
            "28/28 [==============================] - 85s 3s/step - loss: 1.0117 - accuracy: 0.5731 - val_loss: 1.2223 - val_accuracy: 0.4884\n",
            "Epoch 32/50\n",
            "28/28 [==============================] - 87s 3s/step - loss: 0.9887 - accuracy: 0.5971 - val_loss: 1.2781 - val_accuracy: 0.4587\n",
            "Epoch 33/50\n",
            "28/28 [==============================] - 87s 3s/step - loss: 0.9899 - accuracy: 0.5869 - val_loss: 1.3701 - val_accuracy: 0.4752\n",
            "Epoch 34/50\n",
            "28/28 [==============================] - 86s 3s/step - loss: 0.9704 - accuracy: 0.6025 - val_loss: 1.2830 - val_accuracy: 0.4686\n",
            "Epoch 35/50\n",
            "28/28 [==============================] - 85s 3s/step - loss: 0.9772 - accuracy: 0.5996 - val_loss: 1.3152 - val_accuracy: 0.4851\n",
            "Epoch 36/50\n",
            "28/28 [==============================] - 85s 3s/step - loss: 0.9749 - accuracy: 0.6007 - val_loss: 1.2482 - val_accuracy: 0.4818\n",
            "Epoch 37/50\n",
            "28/28 [==============================] - 85s 3s/step - loss: 0.9440 - accuracy: 0.6102 - val_loss: 1.3407 - val_accuracy: 0.4884\n",
            "Epoch 38/50\n",
            "28/28 [==============================] - 85s 3s/step - loss: 0.9510 - accuracy: 0.6036 - val_loss: 1.3037 - val_accuracy: 0.4884\n",
            "Epoch 39/50\n",
            "28/28 [==============================] - 86s 3s/step - loss: 0.9511 - accuracy: 0.6022 - val_loss: 1.2991 - val_accuracy: 0.4620\n",
            "Epoch 40/50\n",
            "28/28 [==============================] - 86s 3s/step - loss: 0.9314 - accuracy: 0.6105 - val_loss: 1.3568 - val_accuracy: 0.4554\n",
            "Epoch 41/50\n",
            "28/28 [==============================] - 86s 3s/step - loss: 0.9309 - accuracy: 0.6153 - val_loss: 1.3496 - val_accuracy: 0.4686\n",
            "Epoch 42/50\n",
            "28/28 [==============================] - 86s 3s/step - loss: 0.9313 - accuracy: 0.6091 - val_loss: 1.3271 - val_accuracy: 0.4719\n",
            "Epoch 43/50\n",
            "28/28 [==============================] - 86s 3s/step - loss: 0.9331 - accuracy: 0.6156 - val_loss: 1.2771 - val_accuracy: 0.4752\n",
            "Epoch 44/50\n",
            "28/28 [==============================] - 86s 3s/step - loss: 0.9230 - accuracy: 0.6153 - val_loss: 1.3413 - val_accuracy: 0.4983\n",
            "Epoch 45/50\n",
            "28/28 [==============================] - 86s 3s/step - loss: 0.9196 - accuracy: 0.6211 - val_loss: 1.2966 - val_accuracy: 0.4950\n",
            "Epoch 46/50\n",
            "28/28 [==============================] - 85s 3s/step - loss: 0.9007 - accuracy: 0.6371 - val_loss: 1.3395 - val_accuracy: 0.4851\n",
            "Epoch 47/50\n",
            "28/28 [==============================] - 85s 3s/step - loss: 0.8996 - accuracy: 0.6327 - val_loss: 1.3723 - val_accuracy: 0.4653\n",
            "Epoch 48/50\n",
            "28/28 [==============================] - 86s 3s/step - loss: 0.8921 - accuracy: 0.6342 - val_loss: 1.3360 - val_accuracy: 0.4785\n",
            "Epoch 49/50\n",
            "28/28 [==============================] - 85s 3s/step - loss: 0.8888 - accuracy: 0.6436 - val_loss: 1.2564 - val_accuracy: 0.5116\n",
            "Epoch 50/50\n",
            "28/28 [==============================] - 85s 3s/step - loss: 0.8869 - accuracy: 0.6327 - val_loss: 1.3004 - val_accuracy: 0.4686\n"
          ]
        }
      ],
      "source": [
        "history = cnn.fit(train_datagen,epochs=50,validation_data=test_datagen)"
      ]
    },
    {
      "cell_type": "code",
      "execution_count": null,
      "metadata": {
        "colab": {
          "base_uri": "https://localhost:8080/"
        },
        "id": "LsULfKzw8RgD",
        "outputId": "3e847bc7-5124-47da-c4ff-6a9736d357f0"
      },
      "outputs": [
        {
          "output_type": "stream",
          "name": "stdout",
          "text": [
            "Epoch 1/100\n",
            "22/22 [==============================] - 1142s 52s/step - loss: 1.6352 - accuracy: 0.3615 - val_loss: 1.5759 - val_accuracy: 0.3828\n",
            "Epoch 2/100\n",
            "22/22 [==============================] - 99s 4s/step - loss: 1.5801 - accuracy: 0.3811 - val_loss: 1.5693 - val_accuracy: 0.3828\n",
            "Epoch 3/100\n",
            "22/22 [==============================] - 98s 4s/step - loss: 1.5693 - accuracy: 0.3811 - val_loss: 1.5568 - val_accuracy: 0.3828\n",
            "Epoch 4/100\n",
            "22/22 [==============================] - 99s 4s/step - loss: 1.5552 - accuracy: 0.3862 - val_loss: 1.5527 - val_accuracy: 0.3828\n",
            "Epoch 5/100\n",
            "22/22 [==============================] - 103s 5s/step - loss: 1.5294 - accuracy: 0.3927 - val_loss: 1.5121 - val_accuracy: 0.4290\n",
            "Epoch 6/100\n",
            "22/22 [==============================] - 99s 4s/step - loss: 1.4877 - accuracy: 0.4044 - val_loss: 1.4896 - val_accuracy: 0.4323\n",
            "Epoch 7/100\n",
            "22/22 [==============================] - 99s 4s/step - loss: 1.4178 - accuracy: 0.4091 - val_loss: 1.4528 - val_accuracy: 0.4488\n",
            "Epoch 8/100\n",
            "22/22 [==============================] - 99s 4s/step - loss: 1.3828 - accuracy: 0.4247 - val_loss: 1.4106 - val_accuracy: 0.4521\n",
            "Epoch 9/100\n",
            "22/22 [==============================] - 99s 4s/step - loss: 1.3340 - accuracy: 0.4458 - val_loss: 1.4190 - val_accuracy: 0.3762\n",
            "Epoch 10/100\n",
            "22/22 [==============================] - 105s 5s/step - loss: 1.3213 - accuracy: 0.4418 - val_loss: 1.3449 - val_accuracy: 0.4125\n",
            "Epoch 11/100\n",
            "22/22 [==============================] - 100s 4s/step - loss: 1.3034 - accuracy: 0.4542 - val_loss: 1.3786 - val_accuracy: 0.4422\n",
            "Epoch 12/100\n",
            "22/22 [==============================] - 101s 5s/step - loss: 1.2699 - accuracy: 0.4618 - val_loss: 1.3037 - val_accuracy: 0.4455\n",
            "Epoch 13/100\n",
            "22/22 [==============================] - 101s 5s/step - loss: 1.2373 - accuracy: 0.4855 - val_loss: 1.3203 - val_accuracy: 0.4158\n",
            "Epoch 14/100\n",
            "22/22 [==============================] - 102s 5s/step - loss: 1.2236 - accuracy: 0.4931 - val_loss: 1.3190 - val_accuracy: 0.4158\n",
            "Epoch 15/100\n",
            "22/22 [==============================] - 104s 5s/step - loss: 1.2132 - accuracy: 0.4942 - val_loss: 1.3982 - val_accuracy: 0.3894\n",
            "Epoch 16/100\n",
            "22/22 [==============================] - 99s 5s/step - loss: 1.2129 - accuracy: 0.4891 - val_loss: 1.2713 - val_accuracy: 0.4785\n",
            "Epoch 17/100\n",
            "22/22 [==============================] - 101s 5s/step - loss: 1.1918 - accuracy: 0.5127 - val_loss: 1.2594 - val_accuracy: 0.4752\n",
            "Epoch 18/100\n",
            "22/22 [==============================] - 100s 4s/step - loss: 1.1604 - accuracy: 0.5127 - val_loss: 1.3183 - val_accuracy: 0.4323\n",
            "Epoch 19/100\n",
            "22/22 [==============================] - 102s 5s/step - loss: 1.1542 - accuracy: 0.5215 - val_loss: 1.3686 - val_accuracy: 0.4587\n",
            "Epoch 20/100\n",
            "22/22 [==============================] - 106s 5s/step - loss: 1.1414 - accuracy: 0.5153 - val_loss: 1.3114 - val_accuracy: 0.4785\n",
            "Epoch 21/100\n",
            "22/22 [==============================] - 101s 5s/step - loss: 1.1372 - accuracy: 0.5269 - val_loss: 1.3252 - val_accuracy: 0.5017\n",
            "Epoch 22/100\n",
            "22/22 [==============================] - 100s 5s/step - loss: 1.1187 - accuracy: 0.5389 - val_loss: 1.3457 - val_accuracy: 0.4059\n",
            "Epoch 23/100\n",
            "22/22 [==============================] - 100s 5s/step - loss: 1.1040 - accuracy: 0.5353 - val_loss: 1.2963 - val_accuracy: 0.5083\n",
            "Epoch 24/100\n",
            "22/22 [==============================] - 99s 4s/step - loss: 1.1001 - accuracy: 0.5455 - val_loss: 1.2844 - val_accuracy: 0.4554\n",
            "Epoch 25/100\n",
            "22/22 [==============================] - 104s 5s/step - loss: 1.0918 - accuracy: 0.5404 - val_loss: 1.2773 - val_accuracy: 0.4488\n",
            "Epoch 26/100\n",
            "22/22 [==============================] - 99s 4s/step - loss: 1.0860 - accuracy: 0.5429 - val_loss: 1.3615 - val_accuracy: 0.4224\n",
            "Epoch 27/100\n",
            "22/22 [==============================] - 101s 5s/step - loss: 1.0936 - accuracy: 0.5465 - val_loss: 1.2827 - val_accuracy: 0.4488\n",
            "Epoch 28/100\n",
            "22/22 [==============================] - 100s 4s/step - loss: 1.0738 - accuracy: 0.5538 - val_loss: 1.3199 - val_accuracy: 0.4290\n",
            "Epoch 29/100\n",
            "22/22 [==============================] - 100s 5s/step - loss: 1.0473 - accuracy: 0.5589 - val_loss: 1.3099 - val_accuracy: 0.4752\n",
            "Epoch 30/100\n",
            "22/22 [==============================] - 100s 5s/step - loss: 1.0347 - accuracy: 0.5673 - val_loss: 1.2396 - val_accuracy: 0.4488\n",
            "Epoch 31/100\n",
            "22/22 [==============================] - 99s 4s/step - loss: 1.0374 - accuracy: 0.5651 - val_loss: 1.3445 - val_accuracy: 0.4488\n",
            "Epoch 32/100\n",
            "22/22 [==============================] - 100s 4s/step - loss: 1.0361 - accuracy: 0.5698 - val_loss: 1.2801 - val_accuracy: 0.4488\n",
            "Epoch 33/100\n",
            "22/22 [==============================] - 101s 5s/step - loss: 1.0119 - accuracy: 0.5804 - val_loss: 1.2917 - val_accuracy: 0.4587\n",
            "Epoch 34/100\n",
            "22/22 [==============================] - 102s 5s/step - loss: 1.0193 - accuracy: 0.5669 - val_loss: 1.3375 - val_accuracy: 0.4488\n",
            "Epoch 35/100\n",
            "22/22 [==============================] - 100s 5s/step - loss: 1.0158 - accuracy: 0.5749 - val_loss: 1.3878 - val_accuracy: 0.4158\n",
            "Epoch 36/100\n",
            "22/22 [==============================] - 100s 5s/step - loss: 1.0151 - accuracy: 0.5742 - val_loss: 1.3008 - val_accuracy: 0.4323\n",
            "Epoch 37/100\n",
            "22/22 [==============================] - 100s 5s/step - loss: 1.0151 - accuracy: 0.5873 - val_loss: 1.3232 - val_accuracy: 0.4356\n",
            "Epoch 38/100\n",
            "22/22 [==============================] - 99s 4s/step - loss: 0.9704 - accuracy: 0.6087 - val_loss: 1.2928 - val_accuracy: 0.4554\n",
            "Epoch 39/100\n",
            "22/22 [==============================] - 100s 4s/step - loss: 0.9842 - accuracy: 0.5869 - val_loss: 1.3355 - val_accuracy: 0.3894\n",
            "Epoch 40/100\n",
            "22/22 [==============================] - 100s 5s/step - loss: 1.0045 - accuracy: 0.5815 - val_loss: 1.2134 - val_accuracy: 0.4554\n",
            "Epoch 41/100\n",
            "22/22 [==============================] - 101s 5s/step - loss: 0.9699 - accuracy: 0.5942 - val_loss: 1.2716 - val_accuracy: 0.4422\n",
            "Epoch 42/100\n",
            "22/22 [==============================] - 101s 5s/step - loss: 0.9737 - accuracy: 0.5993 - val_loss: 1.2748 - val_accuracy: 0.4587\n",
            "Epoch 43/100\n",
            "22/22 [==============================] - 101s 5s/step - loss: 0.9423 - accuracy: 0.6047 - val_loss: 1.2572 - val_accuracy: 0.4389\n",
            "Epoch 44/100\n",
            "22/22 [==============================] - 100s 4s/step - loss: 0.9562 - accuracy: 0.5964 - val_loss: 1.1923 - val_accuracy: 0.4950\n",
            "Epoch 45/100\n",
            "22/22 [==============================] - 101s 5s/step - loss: 0.9658 - accuracy: 0.6007 - val_loss: 1.2857 - val_accuracy: 0.4092\n",
            "Epoch 46/100\n",
            "22/22 [==============================] - 100s 5s/step - loss: 0.9627 - accuracy: 0.6069 - val_loss: 1.1799 - val_accuracy: 0.4587\n",
            "Epoch 47/100\n",
            "22/22 [==============================] - 99s 4s/step - loss: 0.9621 - accuracy: 0.6029 - val_loss: 1.2740 - val_accuracy: 0.4026\n",
            "Epoch 48/100\n",
            "22/22 [==============================] - 100s 5s/step - loss: 0.9530 - accuracy: 0.6011 - val_loss: 1.1595 - val_accuracy: 0.4554\n",
            "Epoch 49/100\n",
            "22/22 [==============================] - 100s 4s/step - loss: 0.9419 - accuracy: 0.6149 - val_loss: 1.2607 - val_accuracy: 0.4488\n",
            "Epoch 50/100\n",
            "22/22 [==============================] - 100s 4s/step - loss: 0.9428 - accuracy: 0.6091 - val_loss: 1.2239 - val_accuracy: 0.4686\n",
            "Epoch 51/100\n",
            "22/22 [==============================] - 100s 4s/step - loss: 0.9353 - accuracy: 0.6076 - val_loss: 1.2186 - val_accuracy: 0.4389\n",
            "Epoch 52/100\n",
            "22/22 [==============================] - 104s 5s/step - loss: 0.9522 - accuracy: 0.5964 - val_loss: 1.1885 - val_accuracy: 0.4422\n",
            "Epoch 53/100\n",
            "22/22 [==============================] - 102s 5s/step - loss: 0.9197 - accuracy: 0.6229 - val_loss: 1.2026 - val_accuracy: 0.4224\n",
            "Epoch 54/100\n",
            "22/22 [==============================] - 99s 4s/step - loss: 0.8994 - accuracy: 0.6338 - val_loss: 1.2392 - val_accuracy: 0.4488\n",
            "Epoch 55/100\n",
            "22/22 [==============================] - 100s 4s/step - loss: 0.9102 - accuracy: 0.6273 - val_loss: 1.1675 - val_accuracy: 0.4752\n",
            "Epoch 56/100\n",
            "22/22 [==============================] - 101s 5s/step - loss: 0.9231 - accuracy: 0.6255 - val_loss: 1.1982 - val_accuracy: 0.4323\n",
            "Epoch 57/100\n",
            "22/22 [==============================] - 98s 5s/step - loss: 0.9184 - accuracy: 0.6229 - val_loss: 1.2114 - val_accuracy: 0.4521\n",
            "Epoch 58/100\n",
            "22/22 [==============================] - 99s 4s/step - loss: 0.8944 - accuracy: 0.6302 - val_loss: 1.1940 - val_accuracy: 0.4785\n",
            "Epoch 59/100\n",
            "22/22 [==============================] - 99s 4s/step - loss: 0.9007 - accuracy: 0.6404 - val_loss: 1.1618 - val_accuracy: 0.5017\n",
            "Epoch 60/100\n",
            "22/22 [==============================] - 99s 4s/step - loss: 0.8939 - accuracy: 0.6255 - val_loss: 1.2375 - val_accuracy: 0.4224\n",
            "Epoch 61/100\n",
            "22/22 [==============================] - 101s 5s/step - loss: 0.8975 - accuracy: 0.6298 - val_loss: 1.2269 - val_accuracy: 0.4719\n",
            "Epoch 62/100\n",
            "22/22 [==============================] - 101s 5s/step - loss: 0.8893 - accuracy: 0.6305 - val_loss: 1.2279 - val_accuracy: 0.4587\n",
            "Epoch 63/100\n",
            "22/22 [==============================] - 102s 5s/step - loss: 0.9089 - accuracy: 0.6327 - val_loss: 1.1803 - val_accuracy: 0.4983\n",
            "Epoch 64/100\n",
            "22/22 [==============================] - 102s 5s/step - loss: 0.8764 - accuracy: 0.6422 - val_loss: 1.2025 - val_accuracy: 0.5050\n",
            "Epoch 65/100\n",
            "22/22 [==============================] - 100s 5s/step - loss: 0.8753 - accuracy: 0.6345 - val_loss: 1.1847 - val_accuracy: 0.4587\n",
            "Epoch 66/100\n",
            "22/22 [==============================] - 100s 4s/step - loss: 0.8654 - accuracy: 0.6462 - val_loss: 1.2069 - val_accuracy: 0.4224\n",
            "Epoch 67/100\n",
            "22/22 [==============================] - 102s 5s/step - loss: 0.8763 - accuracy: 0.6440 - val_loss: 1.1565 - val_accuracy: 0.5050\n",
            "Epoch 68/100\n",
            "22/22 [==============================] - 99s 4s/step - loss: 0.8797 - accuracy: 0.6367 - val_loss: 1.1561 - val_accuracy: 0.5050\n",
            "Epoch 69/100\n",
            "22/22 [==============================] - 101s 5s/step - loss: 0.8971 - accuracy: 0.6382 - val_loss: 1.1807 - val_accuracy: 0.4884\n",
            "Epoch 70/100\n",
            "22/22 [==============================] - 100s 5s/step - loss: 0.8632 - accuracy: 0.6404 - val_loss: 1.1349 - val_accuracy: 0.4950\n",
            "Epoch 71/100\n",
            "22/22 [==============================] - 100s 4s/step - loss: 0.8593 - accuracy: 0.6447 - val_loss: 1.1321 - val_accuracy: 0.5116\n",
            "Epoch 72/100\n",
            "22/22 [==============================] - 101s 5s/step - loss: 0.8556 - accuracy: 0.6451 - val_loss: 1.3509 - val_accuracy: 0.4323\n",
            "Epoch 73/100\n",
            "22/22 [==============================] - 103s 5s/step - loss: 0.8838 - accuracy: 0.6335 - val_loss: 1.1430 - val_accuracy: 0.4983\n",
            "Epoch 74/100\n",
            "22/22 [==============================] - 101s 5s/step - loss: 0.8609 - accuracy: 0.6433 - val_loss: 1.1409 - val_accuracy: 0.5050\n",
            "Epoch 75/100\n",
            "22/22 [==============================] - 98s 4s/step - loss: 0.8382 - accuracy: 0.6560 - val_loss: 1.2196 - val_accuracy: 0.4686\n",
            "Epoch 76/100\n",
            "22/22 [==============================] - 99s 4s/step - loss: 0.8454 - accuracy: 0.6564 - val_loss: 1.1849 - val_accuracy: 0.4785\n",
            "Epoch 77/100\n",
            "22/22 [==============================] - 100s 4s/step - loss: 0.8376 - accuracy: 0.6513 - val_loss: 1.1747 - val_accuracy: 0.4983\n",
            "Epoch 78/100\n",
            "22/22 [==============================] - 99s 4s/step - loss: 0.8342 - accuracy: 0.6567 - val_loss: 1.2496 - val_accuracy: 0.4884\n",
            "Epoch 79/100\n",
            "22/22 [==============================] - 100s 5s/step - loss: 0.8303 - accuracy: 0.6564 - val_loss: 1.2371 - val_accuracy: 0.4389\n",
            "Epoch 80/100\n",
            "22/22 [==============================] - 100s 5s/step - loss: 0.8359 - accuracy: 0.6658 - val_loss: 1.1736 - val_accuracy: 0.5149\n",
            "Epoch 81/100\n",
            "22/22 [==============================] - 100s 5s/step - loss: 0.8500 - accuracy: 0.6575 - val_loss: 1.2004 - val_accuracy: 0.4917\n",
            "Epoch 82/100\n",
            "22/22 [==============================] - 100s 4s/step - loss: 0.8347 - accuracy: 0.6571 - val_loss: 1.2361 - val_accuracy: 0.5050\n",
            "Epoch 83/100\n",
            "22/22 [==============================] - 101s 5s/step - loss: 0.8240 - accuracy: 0.6705 - val_loss: 1.1881 - val_accuracy: 0.5149\n",
            "Epoch 84/100\n",
            "22/22 [==============================] - 101s 5s/step - loss: 0.8515 - accuracy: 0.6480 - val_loss: 1.2092 - val_accuracy: 0.4719\n",
            "Epoch 85/100\n",
            "22/22 [==============================] - 100s 5s/step - loss: 0.8335 - accuracy: 0.6684 - val_loss: 1.1601 - val_accuracy: 0.5083\n",
            "Epoch 86/100\n",
            "22/22 [==============================] - 100s 4s/step - loss: 0.8324 - accuracy: 0.6680 - val_loss: 1.1757 - val_accuracy: 0.4950\n",
            "Epoch 87/100\n",
            "22/22 [==============================] - 101s 5s/step - loss: 0.8339 - accuracy: 0.6589 - val_loss: 1.2710 - val_accuracy: 0.4752\n",
            "Epoch 88/100\n",
            "22/22 [==============================] - 103s 5s/step - loss: 0.8476 - accuracy: 0.6455 - val_loss: 1.1466 - val_accuracy: 0.5050\n",
            "Epoch 89/100\n",
            "22/22 [==============================] - 101s 5s/step - loss: 0.8190 - accuracy: 0.6622 - val_loss: 1.1903 - val_accuracy: 0.4752\n",
            "Epoch 90/100\n",
            "22/22 [==============================] - 100s 5s/step - loss: 0.7855 - accuracy: 0.6793 - val_loss: 1.1999 - val_accuracy: 0.5083\n",
            "Epoch 91/100\n",
            "22/22 [==============================] - 101s 5s/step - loss: 0.8199 - accuracy: 0.6684 - val_loss: 1.2392 - val_accuracy: 0.4818\n",
            "Epoch 92/100\n",
            "22/22 [==============================] - 100s 5s/step - loss: 0.8005 - accuracy: 0.6655 - val_loss: 1.2044 - val_accuracy: 0.4818\n",
            "Epoch 93/100\n",
            "22/22 [==============================] - 99s 4s/step - loss: 0.8027 - accuracy: 0.6665 - val_loss: 1.1776 - val_accuracy: 0.4917\n",
            "Epoch 94/100\n",
            "22/22 [==============================] - 99s 4s/step - loss: 0.8022 - accuracy: 0.6789 - val_loss: 1.2276 - val_accuracy: 0.4818\n",
            "Epoch 95/100\n",
            "22/22 [==============================] - 99s 4s/step - loss: 0.7977 - accuracy: 0.6644 - val_loss: 1.1814 - val_accuracy: 0.5017\n",
            "Epoch 96/100\n",
            "22/22 [==============================] - 99s 4s/step - loss: 0.8165 - accuracy: 0.6647 - val_loss: 1.2298 - val_accuracy: 0.4818\n",
            "Epoch 97/100\n",
            "22/22 [==============================] - 99s 4s/step - loss: 0.7997 - accuracy: 0.6662 - val_loss: 1.1983 - val_accuracy: 0.4884\n",
            "Epoch 98/100\n",
            "22/22 [==============================] - 99s 4s/step - loss: 0.7906 - accuracy: 0.6702 - val_loss: 1.2674 - val_accuracy: 0.4818\n",
            "Epoch 99/100\n",
            "22/22 [==============================] - 100s 4s/step - loss: 0.7990 - accuracy: 0.6684 - val_loss: 1.2883 - val_accuracy: 0.4455\n",
            "Epoch 100/100\n",
            "22/22 [==============================] - 99s 4s/step - loss: 0.8046 - accuracy: 0.6691 - val_loss: 1.2159 - val_accuracy: 0.4752\n"
          ]
        }
      ],
      "source": [
        "history = cnn.fit(train_datagen,epochs=100,validation_data=test_datagen)"
      ]
    },
    {
      "cell_type": "code",
      "source": [],
      "metadata": {
        "id": "lRnQofNVkwrY"
      },
      "execution_count": null,
      "outputs": []
    },
    {
      "cell_type": "code",
      "execution_count": null,
      "metadata": {
        "id": "A1Exame8XLVM"
      },
      "outputs": [],
      "source": [
        "import matplotlib.pyplot as plt\n"
      ]
    },
    {
      "cell_type": "code",
      "execution_count": null,
      "metadata": {
        "colab": {
          "base_uri": "https://localhost:8080/",
          "height": 545
        },
        "id": "02G_tiaAZjEG",
        "outputId": "d8aef92f-fa73-494a-d0e8-049f3489e1c4"
      },
      "outputs": [
        {
          "data": {
            "image/png": "[encoded data removed]",
            "text/plain": [
              "<Figure size 432x288 with 1 Axes>"
            ]
          },
          "metadata": {},
          "output_type": "display_data"
        },
        {
          "data": {
            "image/png": "[encoded data removed]",
            "text/plain": [
              "<Figure size 432x288 with 1 Axes>"
            ]
          },
          "metadata": {},
          "output_type": "display_data"
        }
      ],
      "source": [
        "# Extract information \n",
        "# plt.figure(figsize=(18,4))\n",
        "acc = history.history['accuracy']\n",
        "val_acc = history.history['val_accuracy']\n",
        "loss = history.history['loss']\n",
        "val_loss = history.history['val_loss']\n",
        "\n",
        "# Define range\n",
        "epochs = range(1,len(acc)+1)\n",
        "\n",
        "# Plot results \n",
        "plt.plot(epochs, acc, 'g', label='Training accuracy')\n",
        "plt.plot(epochs, val_acc, 'r', label='Validation accuracy')\n",
        "plt.title('Training and validation accuracy')\n",
        "plt.legend(['train', 'val'], loc='upper left')\n",
        "plt.figure()\n",
        "plt.plot(epochs, loss, 'g', label='Training Loss')\n",
        "plt.plot(epochs, val_loss, 'r', label='Validation Loss')\n",
        "plt.title('Training and validation loss')\n",
        "plt.legend()\n",
        "plt.show()\n",
        "# plt.ylabel('accuracy')\n",
        "# plt.xlabel('epoch')"
      ]
    }
  ],
  "metadata": {
    "colab": {
      "provenance": [],
      "include_colab_link": true
    },
    "kernelspec": {
      "display_name": "Python 3",
      "language": "python",
      "name": "python3"
    },
    "language_info": {
      "codemirror_mode": {
        "name": "ipython",
        "version": 3
      },
      "file_extension": ".py",
      "mimetype": "text/x-python",
      "name": "python",
      "nbconvert_exporter": "python",
      "pygments_lexer": "ipython3",
      "version": "3.7.9"
    }
  },
  "nbformat": 4,
  "nbformat_minor": 0
}